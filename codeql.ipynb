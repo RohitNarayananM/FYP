{
 "cells": [
  {
   "cell_type": "code",
   "execution_count": null,
   "metadata": {
    "colab": {
     "base_uri": "https://localhost:8080/"
    },
    "executionInfo": {
     "elapsed": 3604,
     "status": "ok",
     "timestamp": 1697562459911,
     "user": {
      "displayName": "Aneesh Nadh",
      "userId": "16462828774478804501"
     },
     "user_tz": -330
    },
    "id": "VbRTUh15h-cF",
    "outputId": "5666c177-fdc6-4e79-c6c5-cbd84d0f85b2"
   },
   "outputs": [],
   "source": [
    "!wget https://github.com/github/codeql-action/releases/download/codeql-bundle-v2.15.0/codeql-bundle-linux64.tar.gz"
   ]
  },
  {
   "cell_type": "code",
   "execution_count": null,
   "metadata": {
    "id": "76sFnmBPmyIy"
   },
   "outputs": [],
   "source": [
    "!tar -xzvf codeql-bundle-linux64.tar.gz"
   ]
  },
  {
   "cell_type": "code",
   "execution_count": null,
   "metadata": {
    "id": "uBDVmv8Hq5ca"
   },
   "outputs": [],
   "source": [
    "!git clone https://github.com/juice-shop/juice-shop.git"
   ]
  },
  {
   "cell_type": "code",
   "execution_count": null,
   "metadata": {
    "id": "LaMpGhWNriSw"
   },
   "outputs": [],
   "source": [
    "!codeql/codeql database create dvwadb --language=javascript --source-root /content/juice-shop"
   ]
  },
  {
   "cell_type": "code",
   "execution_count": null,
   "metadata": {
    "id": "nWrGX7cDsclS"
   },
   "outputs": [],
   "source": [
    "!codeql/codeql database analyze dvwadb --format=csv --output=./scan.csv"
   ]
  },
  {
   "cell_type": "code",
   "execution_count": null,
   "metadata": {
    "colab": {
     "base_uri": "https://localhost:8080/"
    },
    "executionInfo": {
     "elapsed": 34,
     "status": "ok",
     "timestamp": 1697564477838,
     "user": {
      "displayName": "Aneesh Nadh",
      "userId": "16462828774478804501"
     },
     "user_tz": -330
    },
    "id": "Rmb1aa56ty5T",
    "outputId": "bfe6a8aa-54f7-4094-b8fa-b0765f22ec28"
   },
   "outputs": [],
   "source": [
    "!cat scan.csv\n"
   ]
  },
  {
   "cell_type": "code",
   "execution_count": null,
   "metadata": {
    "colab": {
     "base_uri": "https://localhost:8080/",
     "height": 255
    },
    "executionInfo": {
     "elapsed": 502,
     "status": "error",
     "timestamp": 1698593568440,
     "user": {
      "displayName": "Aneesh Nadh",
      "userId": "16462828774478804501"
     },
     "user_tz": -330
    },
    "id": "hlydj80UukNg",
    "outputId": "3f14463b-21c6-4186-8536-ff3ab916d9cb"
   },
   "outputs": [],
   "source": [
    "import csv\n",
    "\n",
    "# Open the CSV file\n",
    "file_dir = \"/content/juice-shop\"\n",
    "\n",
    "with open('scan.csv', 'r') as csvfile:\n",
    "    csvreader = csv.reader(csvfile)\n",
    "\n",
    "    # Iterate through each row in the CSV\n",
    "    for row in csvreader:\n",
    "        if len(row) >= 8:  # Check if the row has the necessary data\n",
    "            # Extract line numbers and file path\n",
    "            start_line = int(row[5])\n",
    "            end_line = int(row[7])\n",
    "            file_path = file_dir+row[4]\n",
    "\n",
    "            # Read the code from the file\n",
    "            with open(file_path, 'r') as code_file:\n",
    "                code_lines = code_file.readlines()\n",
    "                vulnerable_code = ''\n",
    "\n",
    "                # Extract the lines that are part of the vulnerability\n",
    "                for line_num in range(start_line-2, end_line + 2):\n",
    "                    vulnerable_code += code_lines[line_num - 1]\n",
    "\n",
    "                # Print the vulnerable code\n",
    "                print(row[0])\n",
    "                print(vulnerable_code)"
   ]
  },
  {
   "cell_type": "code",
   "execution_count": null,
   "metadata": {
    "colab": {
     "base_uri": "https://localhost:8080/"
    },
    "executionInfo": {
     "elapsed": 641,
     "status": "ok",
     "timestamp": 1698593558892,
     "user": {
      "displayName": "Aneesh Nadh",
      "userId": "16462828774478804501"
     },
     "user_tz": -330
    },
    "id": "AwEqEd5jyGez",
    "outputId": "9c39486f-93e3-4b94-85cb-5e48d91942d0"
   },
   "outputs": [],
   "source": [
    "!cat scan.csv"
   ]
  },
  {
   "cell_type": "code",
   "execution_count": null,
   "metadata": {
    "id": "8aMbKyHeEBJ6"
   },
   "outputs": [],
   "source": []
  }
 ],
 "metadata": {
  "colab": {
   "provenance": []
  },
  "kernelspec": {
   "display_name": "Python 3 (ipykernel)",
   "language": "python",
   "name": "python3"
  },
  "language_info": {
   "codemirror_mode": {
    "name": "ipython",
    "version": 3
   },
   "file_extension": ".py",
   "mimetype": "text/x-python",
   "name": "python",
   "nbconvert_exporter": "python",
   "pygments_lexer": "ipython3",
   "version": "3.10.12"
  }
 },
 "nbformat": 4,
 "nbformat_minor": 1
}
